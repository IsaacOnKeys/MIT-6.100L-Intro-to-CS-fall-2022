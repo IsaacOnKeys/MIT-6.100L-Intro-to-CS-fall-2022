{
 "cells": [
  {
   "cell_type": "code",
   "execution_count": null,
   "metadata": {},
   "outputs": [],
   "source": [
    "# Finger Exercise Lecture 9\n",
    "# Implement the function that meets the specifications below:\n",
    "\n",
    "def dot_product(tA, tB):\n",
    "    \"\"\"\n",
    "    tA: a tuple of numbers\n",
    "    tB: a tuple of numbers of the same length as tA\n",
    "    Assumes tA and tB are the same length.\n",
    "    Returns a tuple where the:\n",
    "    * first element is the length of one of the tuples\n",
    "    * second element is the sum of the pairwise products of tA and tB\n",
    "    \"\"\"\n",
    "    # Your code here\n",
    "\n",
    "# Examples:\n",
    "tA = (1, 2, 3)\n",
    "tB = (4, 5, 6)   \n",
    "print(dot_product(tA, tB)) # prints (3,32)"
   ]
  }
 ],
 "metadata": {
  "language_info": {
   "name": "python"
  },
  "orig_nbformat": 4
 },
 "nbformat": 4,
 "nbformat_minor": 2
}
