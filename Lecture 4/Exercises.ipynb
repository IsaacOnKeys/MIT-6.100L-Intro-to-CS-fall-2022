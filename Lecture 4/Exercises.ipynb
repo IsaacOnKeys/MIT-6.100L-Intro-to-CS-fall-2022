{
 "cells": [
  {
   "cell_type": "code",
   "execution_count": 30,
   "metadata": {},
   "outputs": [
    {
     "name": "stdout",
     "output_type": "stream",
     "text": [
      "The secret number is 9\n"
     ]
    }
   ],
   "source": [
    "## Find the Secret number\n",
    "secretNum = 9\n",
    "\n",
    "for num in range(1,11):\n",
    "\tif secretNum == num:\n",
    "\t\tprint(f\"The secret number is {num}\")\n",
    "\telif num > 10:\n",
    "\t\tprint(f\"The secret number is not between 1 - 10\")\n"
   ]
  },
  {
   "cell_type": "code",
   "execution_count": 1,
   "metadata": {},
   "outputs": [],
   "source": [
    "## Attempting binary search:"
   ]
  },
  {
   "cell_type": "code",
   "execution_count": null,
   "metadata": {},
   "outputs": [],
   "source": [
    "def squareRoot() -> int:\n",
    "    x = int(input(\"Enter an Integer\")) \n",
    "\tguess = x / 4\n",
    "\tif guess**2 \n",
    "\n",
    "    prev = 0"
   ]
  },
  {
   "cell_type": "code",
   "execution_count": 7,
   "metadata": {},
   "outputs": [
    {
     "name": "stdout",
     "output_type": "stream",
     "text": [
      "not found\n"
     ]
    }
   ],
   "source": [
    "## using Boolean flag ##\n",
    "\n",
    "secret = 12\n",
    "found = False\n",
    "for i in range(1, 11):\n",
    "\tif i == secret:\n",
    "\t\tprint(\"yeas, it's\", i)\n",
    "\t\tfound = True\n",
    "if not found:\n",
    "\tprint(\"not found\")"
   ]
  },
  {
   "cell_type": "code",
   "execution_count": 27,
   "metadata": {},
   "outputs": [
    {
     "name": "stdout",
     "output_type": "stream",
     "text": [
      "1\n",
      "2\n",
      "3\n",
      "The cube of 27 is 3\n"
     ]
    }
   ],
   "source": [
    "\"\"\"Finger Exercise Lecture 4\n",
    "Assume you are given a positive integer variable named N. Write a piece of Python code that finds the cube root of N. The code prints the cube root if N is a perfect cube or it prints error if N is not a perfect cube. Hint: use a loop that increments a counter—you decide when the counter should stop.\"\"\"\n",
    "\n",
    "myInteger = 27\n",
    "\n",
    "guess = 0\n",
    "\n",
    "\n",
    "\n",
    "while guess**3 < myInteger:\n",
    "\tguess += 1\n",
    "\tprint(guess)\n",
    "if guess**3 > myInteger:\n",
    "\tprint(f\"{myInteger} is not a perfect cube :(\")\n",
    "elif guess**3 == myInteger:\n",
    "\tprint(f\"The cube of {myInteger} is {guess}\")\n",
    "\n",
    "\t"
   ]
  },
  {
   "cell_type": "code",
   "execution_count": 22,
   "metadata": {},
   "outputs": [
    {
     "name": "stdout",
     "output_type": "stream",
     "text": [
      "9 is not a perfect cube :(\n"
     ]
    }
   ],
   "source": [
    "myInteger = 9\n",
    "\n",
    "guess = 0\n",
    "\n",
    "while guess**3 < myInteger:\n",
    "\tguess += 1\n",
    "\n",
    "if guess**3 == myInteger:\n",
    "\tprint(f\"The cube of Myinteger is {guess}\")\n",
    "\t\n",
    "elif guess**3 > myInteger:\n",
    "\tprint(f\"{myInteger} is not a perfect cube :(\")"
   ]
  },
  {
   "cell_type": "code",
   "execution_count": 23,
   "metadata": {},
   "outputs": [
    {
     "name": "stdout",
     "output_type": "stream",
     "text": [
      "1\n",
      "2\n",
      "3\n",
      "9 is not a perfect cube :(\n"
     ]
    }
   ],
   "source": [
    "myInteger = 9\n",
    "\n",
    "guess = 0\n",
    "\n",
    "while guess**3 < myInteger:\n",
    "\tguess += 1\n",
    "\tprint(guess)\n",
    "\n",
    "if guess**3 == myInteger:\n",
    "\tprint(f\"The cube root of {myInteger} is {guess}\")\n",
    "else:\n",
    "\tprint(f\"{myInteger} is not a perfect cube :(\")\n"
   ]
  }
 ],
 "metadata": {
  "kernelspec": {
   "display_name": "Python 3.12.3 64-bit",
   "language": "python",
   "name": "python3"
  },
  "language_info": {
   "codemirror_mode": {
    "name": "ipython",
    "version": 3
   },
   "file_extension": ".py",
   "mimetype": "text/x-python",
   "name": "python",
   "nbconvert_exporter": "python",
   "pygments_lexer": "ipython3",
   "version": "3.12.3"
  },
  "orig_nbformat": 4,
  "vscode": {
   "interpreter": {
    "hash": "3e29a103b67106846fe071a4fc1fba70346032d3f55f3ab3648972076dc57c03"
   }
  }
 },
 "nbformat": 4,
 "nbformat_minor": 2
}
