{
 "cells": [
  {
   "cell_type": "markdown",
   "metadata": {},
   "source": [
    "# Chapter 2.3 "
   ]
  },
  {
   "cell_type": "code",
   "execution_count": null,
   "metadata": {},
   "outputs": [],
   "source": [
    "# Finger exercise: Write a program that examines three variables—\n",
    "# x, y, and z—and prints the largest odd number among them. If none\n",
    "# of them are odd, it should print the smallest value of the three.\n",
    "\n",
    "x, y, z = 1, 2, 3\n",
    "\n",
    "# answer = min(x, y, z)\n",
    "if x%2 != 0:\n",
    "    answer = x\n",
    "if y%2 != 0 and y > answer:\n",
    "    answer = y\n",
    "if z%2 != 0 and z > answer:\n",
    "    answer = z\n",
    "print(answer)\n"
   ]
  },
  {
   "cell_type": "code",
   "execution_count": null,
   "metadata": {},
   "outputs": [],
   "source": [
    "## ternary conditional expression##\n",
    "#prints the maximum value of x,y,z\n",
    "print((x if x > z else z) if x > y else (y if y > z else z))"
   ]
  },
  {
   "cell_type": "markdown",
   "metadata": {},
   "source": [
    "# Chapter 2.4"
   ]
  },
  {
   "cell_type": "code",
   "execution_count": 1,
   "metadata": {},
   "outputs": [],
   "source": [
    "# Finger exercise: Write code that asks the user to enter their\n",
    "# birthday in the form mm/dd/yyyy, and then prints a string of the\n",
    "# form ‘You were born in the year yyyy.’\n",
    "\n",
    "#see texbook.py"
   ]
  },
  {
   "cell_type": "code",
   "execution_count": null,
   "metadata": {},
   "outputs": [],
   "source": []
  }
 ],
 "metadata": {
  "kernelspec": {
   "display_name": "Python 3.12.3 64-bit",
   "language": "python",
   "name": "python3"
  },
  "language_info": {
   "codemirror_mode": {
    "name": "ipython",
    "version": 3
   },
   "file_extension": ".py",
   "mimetype": "text/x-python",
   "name": "python",
   "nbconvert_exporter": "python",
   "pygments_lexer": "ipython3",
   "version": "3.12.3"
  },
  "orig_nbformat": 4,
  "vscode": {
   "interpreter": {
    "hash": "3e29a103b67106846fe071a4fc1fba70346032d3f55f3ab3648972076dc57c03"
   }
  }
 },
 "nbformat": 4,
 "nbformat_minor": 2
}
