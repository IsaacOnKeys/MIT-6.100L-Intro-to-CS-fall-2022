{
 "cells": [
  {
   "cell_type": "code",
   "execution_count": 23,
   "metadata": {},
   "outputs": [
    {
     "name": "stdout",
     "output_type": "stream",
     "text": [
      "runtime = 1.16850002086721360683E-7\n"
     ]
    }
   ],
   "source": [
    "import timeit\n",
    "from decimal import Decimal, getcontext\n",
    "# getcontext().prec = 21\n",
    "myarr = [1, 2, 3, 4, 5]\n",
    "\n",
    "def getLength(x):\n",
    "    return len(x)\n",
    "\n",
    "num = 10000\n",
    "# Get the runtime and calculate the average as a Decimal\n",
    "runtime = Decimal(timeit.timeit(lambda: getLength(myarr), number=num)) / num\n",
    "\n",
    "\n",
    "print(f\"runtime = {Decimal(runtime)}\")"
   ]
  }
 ],
 "metadata": {
  "kernelspec": {
   "display_name": "Python 3.12.3 64-bit",
   "language": "python",
   "name": "python3"
  },
  "language_info": {
   "codemirror_mode": {
    "name": "ipython",
    "version": 3
   },
   "file_extension": ".py",
   "mimetype": "text/x-python",
   "name": "python",
   "nbconvert_exporter": "python",
   "pygments_lexer": "ipython3",
   "version": "3.12.3"
  },
  "orig_nbformat": 4,
  "vscode": {
   "interpreter": {
    "hash": "3e29a103b67106846fe071a4fc1fba70346032d3f55f3ab3648972076dc57c03"
   }
  }
 },
 "nbformat": 4,
 "nbformat_minor": 2
}
