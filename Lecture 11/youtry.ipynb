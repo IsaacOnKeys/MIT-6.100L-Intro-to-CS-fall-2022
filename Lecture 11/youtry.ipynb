{
 "cells": [
  {
   "cell_type": "code",
   "execution_count": 9,
   "metadata": {},
   "outputs": [
    {
     "name": "stdout",
     "output_type": "stream",
     "text": [
      "[1]\n",
      "[2, 2, 2]\n",
      "[2, 2, 2]\n"
     ]
    }
   ],
   "source": [
    "def remove_all(L, e):\n",
    "\t\"\"\" \n",
    "\tL is a list\n",
    "\tMutates L to remove all elements in L that are equal to e\n",
    "\tReturns None.\n",
    "\t\"\"\"\n",
    "\tlCopy = L[:]\n",
    "\tL.clear()\n",
    "\tfor i in lCopy:\n",
    "\t\tif i != e:\n",
    "\t\t\tL.append(i) \n",
    "\n",
    "Lin = [1,2,2,2]\n",
    "remove_all(Lin, 2)\n",
    "print(Lin)    # prints [1]\n",
    "\n",
    "Lin = [1,2,2,2]\n",
    "remove_all(Lin, 1)\n",
    "print(Lin)    # prints [2, 2, 2]\n",
    "\n",
    "remove_all(Lin, 0)\n",
    "print(Lin)    # prints [1, 2, 2, 2]"
   ]
  },
  {
   "cell_type": "code",
   "execution_count": 14,
   "metadata": {},
   "outputs": [
    {
     "name": "stdout",
     "output_type": "stream",
     "text": [
      "[1, 2, 3, 4, 5, 6]\n"
     ]
    }
   ],
   "source": [
    "def remove_all(L, e):\n",
    "\twhile i in range(len(L) -1):\n",
    "\t\tif L[i] == e:\n",
    "\t\t\tL.pop(i) #NOT good-> mutates list while iterating through it. Pointer doesn't move as length changes\n",
    "\tprint(L)\t\t\n",
    "myArr= [1,2,3,4,5,6]\n",
    "remove_all(myArr,6)\t\t\t"
   ]
  }
 ],
 "metadata": {
  "kernelspec": {
   "display_name": "Python 3.12.3 64-bit",
   "language": "python",
   "name": "python3"
  },
  "language_info": {
   "codemirror_mode": {
    "name": "ipython",
    "version": 3
   },
   "file_extension": ".py",
   "mimetype": "text/x-python",
   "name": "python",
   "nbconvert_exporter": "python",
   "pygments_lexer": "ipython3",
   "version": "3.12.3"
  },
  "orig_nbformat": 4,
  "vscode": {
   "interpreter": {
    "hash": "3e29a103b67106846fe071a4fc1fba70346032d3f55f3ab3648972076dc57c03"
   }
  }
 },
 "nbformat": 4,
 "nbformat_minor": 2
}
