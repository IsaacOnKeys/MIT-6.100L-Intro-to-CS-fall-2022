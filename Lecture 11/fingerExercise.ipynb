{
 "cells": [
  {
   "cell_type": "code",
   "execution_count": 1,
   "metadata": {},
   "outputs": [
    {
     "name": "stdout",
     "output_type": "stream",
     "text": [
      "[1, 6, 3]\n"
     ]
    }
   ],
   "source": [
    "def remove_and_sort(Lin, k):\n",
    "    \"\"\" Lin is a list of ints\n",
    "        k is an int >= 0\n",
    "    Mutates Lin to remove the first k elements in Lin and \n",
    "    then sorts the remaining elements in ascending order.\n",
    "    If you run out of items to remove, Lin is mutated to an empty list.\n",
    "    Does not return anything.\n",
    "    \"\"\"\n",
    "\n",
    "\t\n",
    "\n",
    "# Examples:\n",
    "L = [1,6,3]\n",
    "k = 1\n",
    "remove_and_sort(L, k)\n",
    "print(L)   # prints the list [3, 6]"
   ]
  }
 ],
 "metadata": {
  "kernelspec": {
   "display_name": "Python 3.12.3 64-bit",
   "language": "python",
   "name": "python3"
  },
  "language_info": {
   "codemirror_mode": {
    "name": "ipython",
    "version": 3
   },
   "file_extension": ".py",
   "mimetype": "text/x-python",
   "name": "python",
   "nbconvert_exporter": "python",
   "pygments_lexer": "ipython3",
   "version": "3.12.3"
  },
  "orig_nbformat": 4,
  "vscode": {
   "interpreter": {
    "hash": "3e29a103b67106846fe071a4fc1fba70346032d3f55f3ab3648972076dc57c03"
   }
  }
 },
 "nbformat": 4,
 "nbformat_minor": 2
}
