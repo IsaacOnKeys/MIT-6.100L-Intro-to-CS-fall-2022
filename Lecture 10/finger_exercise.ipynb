{
 "cells": [
  {
   "cell_type": "code",
   "execution_count": null,
   "metadata": {},
   "outputs": [],
   "source": [
    "# Finger Exercise Lecture 10\n",
    "# Implement the function that meets the specifications below:\n",
    "\n",
    "def all_true(n, Lf):\n",
    "    \"\"\" n is an int\n",
    "        Lf is a list of functions that take in an int and return a Boolean\n",
    "    Returns True if each and every function in Lf returns True when called \n",
    "    with n as a parameter. Otherwise returns False. \n",
    "    \"\"\"\n",
    "    # Your code here\n",
    "\n",
    "# Examples:    \n",
    "all_true() # prints 6"
   ]
  }
 ],
 "metadata": {
  "language_info": {
   "name": "python"
  },
  "orig_nbformat": 4
 },
 "nbformat": 4,
 "nbformat_minor": 2
}
